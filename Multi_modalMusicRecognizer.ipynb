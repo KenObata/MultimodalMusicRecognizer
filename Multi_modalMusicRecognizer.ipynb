{
  "nbformat": 4,
  "nbformat_minor": 0,
  "metadata": {
    "colab": {
      "provenance": [],
      "mount_file_id": "1z22V-pxoeByncOF90OJol5VoGyEzYEfX",
      "authorship_tag": "ABX9TyNuGDYrGlaZjyyjk0YxR3l/",
      "include_colab_link": true
    },
    "kernelspec": {
      "name": "python3",
      "display_name": "Python 3"
    },
    "language_info": {
      "name": "python"
    }
  },
  "cells": [
    {
      "cell_type": "markdown",
      "metadata": {
        "id": "view-in-github",
        "colab_type": "text"
      },
      "source": [
        "<a href=\"https://colab.research.google.com/github/KenObata/MultimodalMusicRecognizer/blob/main/Multi_modalMusicRecognizer.ipynb\" target=\"_parent\"><img src=\"https://colab.research.google.com/assets/colab-badge.svg\" alt=\"Open In Colab\"/></a>"
      ]
    },
    {
      "cell_type": "markdown",
      "source": [
        "Goal of MMR (Multi-modal music recognizer) is to recognize songs as input which users do not know the song name but they know either melody, lyrics, or both. This will help them buying songs from music platform such as Apple Music, Amazon Music, etc. I am aware that today we have Shazam.\n",
        "Although the quality of Shazam is good, we have some problems in a certain situations.\n",
        "1.The quality of output is not accurate when there exists noise in the background.\n",
        "\n",
        "2.A song input is Remix, so original music features are changed such as tempo, singer, frequency, amplitude and time. If remix is not registered in the databse, ot becomes hard to find a song name.\n",
        "=> There exists a solution even from a remix because remix is the result of changing tempo, amplitude, adding additional audio on top of original song, etc.\n",
        "\n",
        "Here are steps we can take:\n",
        "\n",
        "**1. Extract Audio Features**\n",
        "Step 1: Preprocess Audio Data\n",
        "\n",
        "Objective: Convert audio files into a standardized format (e.g., WAV) for consistent analysis.\n",
        "Tools: Use audio processing libraries like Librosa or PyDub in Python.\n",
        "Step 2: Feature Extraction\n",
        "\n",
        "Objective: Extract key audio features such as melody, tempo, intensity, harmony, voice, and instruments.\n",
        "Tools: Utilize Librosa for extracting features like tempo, intensity, and harmony. For melody and voice, consider using more advanced models like CREPE for pitch tracking or OpenL3 for audio embedding.\n",
        "\n",
        "**2. Search from Database by These Features**\n",
        "Step 3: Database Construction\n",
        "\n",
        "Objective: Build a database of songs with pre-extracted features.\n",
        "Tools: Use a database management system (e.g., SQL, MongoDB) and store feature vectors extracted in Step 2.\n",
        "Step 4: Feature Matching\n",
        "\n",
        "Objective: Implement a search algorithm to find matches based on audio features.\n",
        "Tools: Use similarity measures (e.g., cosine similarity, Euclidean distance) in Python to compare feature vectors.\n",
        "\n",
        "**3. Rank Candidates in Order**\n",
        "Step 5: Implement Ranking Algorithm\n",
        "Objective: Rank potential matches based on similarity scores and other relevant metrics.\n",
        "Tools: Develop a ranking algorithm (possibly using machine learning) to weigh different features appropriately.\n",
        "\n",
        "**4. Propose Candidates of Song Name and Artist**\n",
        "Step 6: Integration with GPT Models\n",
        "\n",
        "Objective: Use GPT models to refine search results and generate more contextual and accurate suggestions.\n",
        "Tools: Employ a GPT model like GPT-4 to process textual information about songs (like lyrics, artist info) to enhance matching accuracy.\n",
        "Step 7: User Interface and Feedback Loop\n",
        "\n",
        "Objective: Present candidates to users and refine the system based on feedback.\n",
        "Tools: Create a user interface (web or mobile app) and implement a feedback system to continuously improve the algorithm based on user input.\n",
        "Step 8: Continuous Learning and Improvement\n",
        "\n",
        "Objective: Keep updating the database and refining the model with new data and user feedback.\n",
        "Tools: Use automated scripts to update the database and retrain models periodically.\n"
      ],
      "metadata": {
        "id": "qo1KBiT2syDA"
      }
    },
    {
      "cell_type": "code",
      "execution_count": null,
      "metadata": {
        "id": "W1tMJd3psrzb"
      },
      "outputs": [],
      "source": [
        "SPOTIFY_DIR = \"/content/drive/MyDrive/other/spotify/\"\n",
        "song_file = \"2I'm Good (Blue)David Guetta.mp3\""
      ]
    }
  ]
}